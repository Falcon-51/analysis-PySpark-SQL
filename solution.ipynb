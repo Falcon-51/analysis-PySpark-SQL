{
  "nbformat": 4,
  "nbformat_minor": 0,
  "metadata": {
    "colab": {
      "provenance": []
    },
    "kernelspec": {
      "name": "python3",
      "display_name": "Python 3"
    },
    "language_info": {
      "name": "python"
    }
  },
  "cells": [
    {
      "cell_type": "code",
      "execution_count": null,
      "metadata": {
        "colab": {
          "base_uri": "https://localhost:8080/"
        },
        "id": "0xh8rJXRrfzw",
        "outputId": "47425061-b300-4bf5-a107-0edc400de20d"
      },
      "outputs": [
        {
          "output_type": "stream",
          "name": "stdout",
          "text": [
            "Collecting pyspark\n",
            "  Downloading pyspark-3.5.1.tar.gz (317.0 MB)\n",
            "\u001b[2K     \u001b[90m━━━━━━━━━━━━━━━━━━━━━━━━━━━━━━━━━━━━━━━━\u001b[0m \u001b[32m317.0/317.0 MB\u001b[0m \u001b[31m4.8 MB/s\u001b[0m eta \u001b[36m0:00:00\u001b[0m\n",
            "\u001b[?25h  Preparing metadata (setup.py) ... \u001b[?25l\u001b[?25hdone\n",
            "Requirement already satisfied: py4j==0.10.9.7 in /usr/local/lib/python3.10/dist-packages (from pyspark) (0.10.9.7)\n",
            "Building wheels for collected packages: pyspark\n",
            "  Building wheel for pyspark (setup.py) ... \u001b[?25l\u001b[?25hdone\n",
            "  Created wheel for pyspark: filename=pyspark-3.5.1-py2.py3-none-any.whl size=317488493 sha256=ace48be5c5cf7b5f7ede178b7f23c00d3fced115d546a7e4b1c7fc4c4d0319bb\n",
            "  Stored in directory: /root/.cache/pip/wheels/80/1d/60/2c256ed38dddce2fdd93be545214a63e02fbd8d74fb0b7f3a6\n",
            "Successfully built pyspark\n",
            "Installing collected packages: pyspark\n",
            "Successfully installed pyspark-3.5.1\n"
          ]
        }
      ],
      "source": [
        "pip install pyspark"
      ]
    },
    {
      "cell_type": "markdown",
      "source": [
        "# 1) Чтение данных\n"
      ],
      "metadata": {
        "id": "jJKaD0X5ruUd"
      }
    },
    {
      "cell_type": "code",
      "source": [
        "from pyspark.sql import SparkSession\n",
        "from pyspark.sql.functions import to_date\n",
        "from pyspark.sql.functions import mean, col, when, max, sum, year, count, avg\n",
        "\n",
        "# Создание SparkSession\n",
        "spark = SparkSession.builder.appName(\"Read CSV Example\").getOrCreate()\n",
        "\n",
        "# Чтение CSV-файла\n",
        "df_movies = spark.read.csv(\"/content/sample_data/movies.csv\", header=True, inferSchema=True)\n",
        "df_movie_actors = spark.read.csv(\"/content/sample_data/movie_actors.csv\", header=True, inferSchema=True)\n",
        "df_actors = spark.read.csv(\"/content/sample_data/actors.csv\", header=True, inferSchema=True)\n",
        "\n"
      ],
      "metadata": {
        "id": "NCeBoGr_rrVn"
      },
      "execution_count": null,
      "outputs": []
    },
    {
      "cell_type": "code",
      "source": [
        "# Печать схемы DataFrame\n",
        "df_movies.printSchema()\n",
        "\n",
        "# Показ первых 5 строк\n",
        "df_movies.show(5)"
      ],
      "metadata": {
        "colab": {
          "base_uri": "https://localhost:8080/"
        },
        "id": "JDAIyLhQs2rJ",
        "outputId": "a8ef73bb-79bb-4596-a62c-af92f460ef4a"
      },
      "execution_count": null,
      "outputs": [
        {
          "output_type": "stream",
          "name": "stdout",
          "text": [
            "root\n",
            " |-- movie_id: integer (nullable = true)\n",
            " |-- title: string (nullable = true)\n",
            " |-- genre: string (nullable = true)\n",
            " |-- release_date: date (nullable = true)\n",
            " |-- budget: double (nullable = true)\n",
            "\n",
            "+--------+-------+------+------------+-------------+\n",
            "|movie_id|  title| genre|release_date|       budget|\n",
            "+--------+-------+------+------------+-------------+\n",
            "|       1|Movie_1|Horror|  2000-12-31|8.660058311E7|\n",
            "|       2|Movie_2|Comedy|  2001-12-31|1.274740083E7|\n",
            "|       3|Movie_3|Action|  2002-12-31| 1.80157747E7|\n",
            "|       4|Movie_4| Drama|  2003-12-31|4.817612061E7|\n",
            "|       5|Movie_5| Drama|  2004-12-31| 7.40501611E7|\n",
            "+--------+-------+------+------------+-------------+\n",
            "only showing top 5 rows\n",
            "\n"
          ]
        }
      ]
    },
    {
      "cell_type": "code",
      "source": [
        "# Печать схемы DataFrame\n",
        "df_movie_actors.printSchema()\n",
        "\n",
        "# Показ первых 5 строк\n",
        "df_movie_actors.show(5)"
      ],
      "metadata": {
        "colab": {
          "base_uri": "https://localhost:8080/"
        },
        "id": "kXkviluKs3xf",
        "outputId": "e72e50ea-f114-4048-f50a-56cb3d764e6a"
      },
      "execution_count": null,
      "outputs": [
        {
          "output_type": "stream",
          "name": "stdout",
          "text": [
            "root\n",
            " |-- movie_id: integer (nullable = true)\n",
            " |-- actor_id: integer (nullable = true)\n",
            "\n",
            "+--------+--------+\n",
            "|movie_id|actor_id|\n",
            "+--------+--------+\n",
            "|       1|      25|\n",
            "|      16|       5|\n",
            "|       6|      16|\n",
            "|      16|      11|\n",
            "|      14|      21|\n",
            "+--------+--------+\n",
            "only showing top 5 rows\n",
            "\n"
          ]
        }
      ]
    },
    {
      "cell_type": "code",
      "source": [
        "# Печать схемы DataFrame\n",
        "df_actors.printSchema()\n",
        "\n",
        "# Показ первых 5 строк\n",
        "df_actors.show(5)"
      ],
      "metadata": {
        "colab": {
          "base_uri": "https://localhost:8080/"
        },
        "id": "bxrvYfQcs3_P",
        "outputId": "fc649b4e-577c-4eb0-c463-db39a74d3e72"
      },
      "execution_count": null,
      "outputs": [
        {
          "output_type": "stream",
          "name": "stdout",
          "text": [
            "root\n",
            " |-- actor_id: integer (nullable = true)\n",
            " |-- name: string (nullable = true)\n",
            " |-- birth_date: date (nullable = true)\n",
            " |-- country: string (nullable = true)\n",
            "\n",
            "+--------+-------+----------+-------+\n",
            "|actor_id|   name|birth_date|country|\n",
            "+--------+-------+----------+-------+\n",
            "|       1|Actor_1|1960-12-31| Canada|\n",
            "|       2|Actor_2|1962-12-31|     UK|\n",
            "|       3|Actor_3|1964-12-31|     UK|\n",
            "|       4|Actor_4|1966-12-31|     UK|\n",
            "|       5|Actor_5|1968-12-31|  India|\n",
            "+--------+-------+----------+-------+\n",
            "only showing top 5 rows\n",
            "\n"
          ]
        }
      ]
    },
    {
      "cell_type": "markdown",
      "source": [
        "# 2) Создание временных таблиц"
      ],
      "metadata": {
        "id": "hzrQ7zdiryI9"
      }
    },
    {
      "cell_type": "markdown",
      "source": [
        "#### Создадим временные таблицы для данных о фильмах, актерах и связях между ними."
      ],
      "metadata": {
        "id": "PpJvTmFHs_at"
      }
    },
    {
      "cell_type": "code",
      "source": [
        "df_actors.createOrReplaceTempView(\"actors\")\n",
        "df_movie_actors.createOrReplaceTempView(\"movie_actors\")\n",
        "df_movies.createOrReplaceTempView(\"movies\")\n"
      ],
      "metadata": {
        "id": "6lKwcIFUr1OP"
      },
      "execution_count": null,
      "outputs": []
    },
    {
      "cell_type": "markdown",
      "source": [
        "# 3)  SQL запросы"
      ],
      "metadata": {
        "id": "Eh7jSdAKr139"
      }
    },
    {
      "cell_type": "markdown",
      "source": [
        "#### Найдём топ-5 жанров по количеству фильмов.\n"
      ],
      "metadata": {
        "id": "lC53zoBitGQ-"
      }
    },
    {
      "cell_type": "code",
      "source": [
        "res = spark.sql(\"\"\"\n",
        "SELECT genre, COUNT(*) as cnt_movies\n",
        "FROM movies\n",
        "GROUP BY genre\n",
        "ORDER BY cnt_movies DESC\n",
        "\"\"\")\n",
        "\n",
        "# Показ результатов\n",
        "res.show()"
      ],
      "metadata": {
        "colab": {
          "base_uri": "https://localhost:8080/"
        },
        "id": "L7sACr4Fr3pU",
        "outputId": "cd6541ff-2fd9-4ec0-f5be-f2ffb4d12279"
      },
      "execution_count": null,
      "outputs": [
        {
          "output_type": "stream",
          "name": "stdout",
          "text": [
            "+------+----------+\n",
            "| genre|cnt_movies|\n",
            "+------+----------+\n",
            "| Drama|         6|\n",
            "|Action|         6|\n",
            "|Comedy|         4|\n",
            "|Horror|         2|\n",
            "|Sci-Fi|         2|\n",
            "+------+----------+\n",
            "\n"
          ]
        }
      ]
    },
    {
      "cell_type": "markdown",
      "source": [
        "#### Найдём актера с наибольшим количеством фильмов.\n"
      ],
      "metadata": {
        "id": "qNucJN1rtJWH"
      }
    },
    {
      "cell_type": "code",
      "source": [
        "res = spark.sql(\"\"\"\n",
        "\n",
        "\n",
        "WITH t1 AS\n",
        "(SELECT a.actor_id, COUNT(*) as cnt_movies\n",
        "FROM actors a\n",
        "INNER JOIN movie_actors ma\n",
        "ON a.actor_id = ma.actor_id\n",
        "GROUP BY a.actor_id\n",
        "ORDER BY cnt_movies DESC\n",
        "LIMIT 1)\n",
        "SELECT name FROM actors WHERE actor_id = (SELECT t1.actor_id FROM t1)\n",
        "\"\"\")\n",
        "\n",
        "\n",
        "\n",
        "# Показ результатов\n",
        "res.show()"
      ],
      "metadata": {
        "colab": {
          "base_uri": "https://localhost:8080/"
        },
        "id": "Soo-Y3FDtMZO",
        "outputId": "fdfad89f-a695-4d19-e9fa-494e10655886"
      },
      "execution_count": null,
      "outputs": [
        {
          "output_type": "stream",
          "name": "stdout",
          "text": [
            "+--------+\n",
            "|    name|\n",
            "+--------+\n",
            "|Actor_17|\n",
            "+--------+\n",
            "\n"
          ]
        }
      ]
    },
    {
      "cell_type": "markdown",
      "source": [
        "#### Подсчитаем средний бюджет фильмов по жанрам.\n"
      ],
      "metadata": {
        "id": "267iBD9BtMf_"
      }
    },
    {
      "cell_type": "code",
      "source": [
        "# Выполнение JOIN-запроса с использованием SQL\n",
        "res = spark.sql(\"\"\"\n",
        "SELECT genre, AVG(budget) as avg_budget\n",
        "FROM movies\n",
        "GROUP BY genre\n",
        "ORDER BY avg_budget DESC\n",
        "\"\"\")\n",
        "\n",
        "# Показ результатов\n",
        "res.show()"
      ],
      "metadata": {
        "colab": {
          "base_uri": "https://localhost:8080/"
        },
        "id": "xo_FmkXetPof",
        "outputId": "8fb37346-21a4-4578-9ab1-5f22e9fba38e"
      },
      "execution_count": null,
      "outputs": [
        {
          "output_type": "stream",
          "name": "stdout",
          "text": [
            "+------+--------------------+\n",
            "| genre|          avg_budget|\n",
            "+------+--------------------+\n",
            "|Horror|      8.7281876775E7|\n",
            "|Sci-Fi|       7.809715175E7|\n",
            "| Drama| 6.076021856166667E7|\n",
            "|Comedy|     5.20709662225E7|\n",
            "|Action|2.7492742561666667E7|\n",
            "+------+--------------------+\n",
            "\n"
          ]
        }
      ]
    },
    {
      "cell_type": "markdown",
      "source": [
        "#### Найдём фильмы, в которых снялось более одного актера из одной страны."
      ],
      "metadata": {
        "id": "Clb607LNtP8d"
      }
    },
    {
      "cell_type": "code",
      "source": [
        "res = spark.sql(\"\"\"\n",
        "\n",
        "SELECT m.title, a.country, COUNT(*) as num_actors\n",
        "FROM movies m\n",
        "JOIN movie_actors ma ON m.movie_id = ma.movie_id\n",
        "JOIN actors a ON ma.actor_id = a.actor_id\n",
        "GROUP BY m.title, a.country\n",
        "HAVING num_actors > 1\n",
        "\"\"\")\n",
        "\n",
        "# Показ результатов\n",
        "res.show()"
      ],
      "metadata": {
        "colab": {
          "base_uri": "https://localhost:8080/"
        },
        "id": "USHJ3K4etTNW",
        "outputId": "d036bc9a-88b2-438b-c792-44ca67715b17"
      },
      "execution_count": null,
      "outputs": [
        {
          "output_type": "stream",
          "name": "stdout",
          "text": [
            "+--------+---------+----------+\n",
            "|   title|  country|num_actors|\n",
            "+--------+---------+----------+\n",
            "| Movie_7|    India|         2|\n",
            "| Movie_3|      USA|         2|\n",
            "|Movie_10|       UK|         2|\n",
            "|Movie_15|    India|         2|\n",
            "|Movie_18|Australia|         2|\n",
            "| Movie_1|    India|         3|\n",
            "| Movie_2|      USA|         2|\n",
            "| Movie_7|      USA|         2|\n",
            "|Movie_10|      USA|         2|\n",
            "+--------+---------+----------+\n",
            "\n"
          ]
        }
      ]
    },
    {
      "cell_type": "markdown",
      "source": [
        "#  4) Результаты"
      ],
      "metadata": {
        "id": "5VML80pWr5LP"
      }
    },
    {
      "cell_type": "code",
      "source": [],
      "metadata": {
        "id": "JjyD89Oxr7xL"
      },
      "execution_count": null,
      "outputs": []
    }
  ]
}